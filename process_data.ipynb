{
 "cells": [
  {
   "cell_type": "code",
   "execution_count": 1,
   "metadata": {},
   "outputs": [],
   "source": [
    "#!/usr/bin/env python\n",
    "# coding: utf-8\n",
    "\n",
    "import pandas as pd\n",
    "import numpy as np\n",
    "import torch\n",
    "import matplotlib.pyplot as plt\n",
    "from torch.utils.data import Dataset, DataLoader\n",
    "from matplotlib.dates import datestr2num\n",
    "import torch.optim as optim\n",
    "from sklearn import preprocessing\n",
    "import math\n",
    "from scipy.stats import gaussian_kde\n",
    "from datetime import datetime\n",
    "import random\n",
    "\n",
    "class ChaniaDataset(Dataset):\n",
    "    def __init__(self, csv_file, num_features, transform=None, normalize=True, seq_len=5, sample_f=12):\n",
    "        self.num_features = num_features\n",
    "        self.seq_len = seq_len\n",
    "        self.sample_f = sample_f\n",
    "        Data = pd.read_csv(csv_file, header=0, usecols = [0]+list(range(2,26)), converters={0:lambda x: datestr2num(x)})\n",
    "        Id = pd.read_csv(csv_file, header=0, usecols=[\"iPhoneUID\"],converters={\"iPhoneUID\": lambda x: userID[x]})\n",
    "        self.augmented_data = []\n",
    "        self.userlabels = []\n",
    "        \n",
    "        self.DataByUser = {}\n",
    "        self.DataByUserS = {}\n",
    "        # Store the data with timestamp by user id\n",
    "        for userid in range(6):\n",
    "            datalist = [Data.iloc[x].values.astype('float').reshape(-1,self.num_features) \n",
    "                                             for x in np.where(Id.iloc[:].values.astype(\"int\").reshape(-1)==userid)[0]]\n",
    "            if datalist!=[]:\n",
    "                self.DataByUser[userid] = np.concatenate(datalist, axis=0)\n",
    "                self.DataByUser[userid][:,0] = np.round(self.DataByUser[userid][:,0] * 100000 \n",
    "                                                     - self.DataByUser[0][0,0] * 100000) % 86400\n",
    "                # Smooth the time sequence with interval 6s X sample_f \n",
    "                flag = 0\n",
    "                tmp = []\n",
    "                while flag < len(self.DataByUser[userid][:,0]) - sample_f - 1:\n",
    "                    if (self.DataByUser[userid][flag + sample_f,0] - self.DataByUser[userid][flag,0]) < 9 * sample_f \\\n",
    "                    and (self.DataByUser[userid][flag + sample_f,0] - self.DataByUser[userid][flag,0]) > 5 * sample_f:\n",
    "                        tmp.append(np.mean(self.DataByUser[userid][flag:flag + sample_f,:],axis=0).reshape(-1,num_features))\n",
    "                    flag = flag + sample_f\n",
    "                if tmp != []:\n",
    "                    self.DataByUserS[userid] = np.concatenate(tmp, axis=0)\n",
    "                    # Sample sequence data\n",
    "                    flag = 0\n",
    "                    for idx in range(len(self.DataByUserS[userid])-seq_len):\n",
    "                        if flag < 2000 \\\n",
    "                        and (self.DataByUserS[userid][idx + seq_len,0] - self.DataByUserS[userid][idx,0]) < 9 * sample_f * seq_len \\\n",
    "                        and (self.DataByUserS[userid][idx + seq_len,0] - self.DataByUserS[userid][idx,0]) > 5 * sample_f * seq_len:\n",
    "                            self.augmented_data.append(self.DataByUserS[userid][idx:idx + seq_len,:].reshape(-1,num_features))\n",
    "                            self.userlabels.append(np.array([userid]).reshape(-1,1))\n",
    "                            flag += 1\n",
    "        print(np.shape(self.augmented_data))\n",
    "        self.augmented_data = np.stack(self.augmented_data, axis=0)\n",
    "        self.userlabels = np.stack(self.userlabels, axis=0)\n",
    "        self.transform = transform\n",
    "\n",
    "        if normalize:\n",
    "            self.augmented_data=(self.augmented_data-self.augmented_data.mean(axis=0))/self.augmented_data.std(axis=0)\n",
    "\n",
    "    def __len__(self):\n",
    "        return len(self.augmented_data)\n",
    "\n",
    "    def __getitem__(self, idx):\n",
    "        if type(idx) == torch.Tensor:\n",
    "            idx = idx.item()\n",
    "        data = self.augmented_data[idx]\n",
    "        user = self.userlabels[idx]\n",
    "        sample = {'x':data, 'u':user}\n",
    "        if self.transform:\n",
    "            sample = self.transform(sample)\n",
    "        return sample\n",
    "    \n",
    "class ToTensor(object):\n",
    "    def __call__(self, sample):\n",
    "        data, user = sample['x'], sample['u']\n",
    "        return {'x':torch.from_numpy(data), 'u':torch.from_numpy(user)}\n",
    " "
   ]
  },
  {
   "cell_type": "code",
   "execution_count": 2,
   "metadata": {},
   "outputs": [],
   "source": [
    "FILENAME = './Dataset/augmented_data.csv'\n",
    "NUM_FEATURES = 25\n",
    "userID = {\n",
    "'a841f74e620f74ec443b7a25d7569545':0,\n",
    "'22223276ea84bbce3a62073c164391fd':1,\n",
    "'7cbc37da05801d46e7d80c3b99fd5adb':2,\n",
    "'6882f6cf8c72d6324ba7e6bb42c9c7c2':3,\n",
    "'1e33db5d2be36268b944359fbdbdad21':4,\n",
    "'892d2c3aae6e51f23bf8666c2314b52f':5,\n",
    "'510635002cb29804d54bff664cab52be':6,\n",
    "'7023889b4439d2c02977ba152d6f4c6e':7,\n",
    "'8425a81da55ec16b7f9f80c139c235a2':8,\n",
    "}"
   ]
  },
  {
   "cell_type": "code",
   "execution_count": 3,
   "metadata": {},
   "outputs": [
    {
     "name": "stdout",
     "output_type": "stream",
     "text": [
      "(12000, 5, 25)\n",
      "(12000, 5, 25)\n",
      "(12000, 1, 1)\n"
     ]
    },
    {
     "name": "stderr",
     "output_type": "stream",
     "text": [
      "/Users/usczj/.conda/envs/tf2/lib/python3.7/site-packages/ipykernel_launcher.py:62: RuntimeWarning: invalid value encountered in true_divide\n"
     ]
    }
   ],
   "source": [
    "chania_dataset = ChaniaDataset(csv_file=FILENAME, num_features=NUM_FEATURES, transform=ToTensor(), normalize=True)\n",
    "print(np.shape(chania_dataset.augmented_data))\n",
    "print(np.shape(chania_dataset.userlabels))"
   ]
  },
  {
   "cell_type": "code",
   "execution_count": 4,
   "metadata": {},
   "outputs": [
    {
     "name": "stdout",
     "output_type": "stream",
     "text": [
      "(2110, 25)\n"
     ]
    },
    {
     "data": {
      "image/png": "[encoded data removed]",
      "text/plain": [
       "<Figure size 432x288 with 1 Axes>"
      ]
     },
     "metadata": {
      "needs_background": "light"
     },
     "output_type": "display_data"
    }
   ],
   "source": [
    "import matplotlib.pyplot as plt\n",
    "plt.plot(chania_dataset.DataByUser[0][:,0])\n",
    "# 0,1,3,6,7,8\n",
    "index = 5\n",
    "print(np.shape(chania_dataset.DataByUserS[index]))\n",
    "# print(np.sum(chania_dataset.DataByUser[index][600:,0]-chania_dataset.DataByUser[index][:-600,0] < 10*600))\n",
    "# print(np.sum(chania_dataset.DataByUser[index][1:,0]-chania_dataset.DataByUser[index][:-1,0] < 10))\n",
    "# print(np.sum(chania_dataset.DataByUser[index][1:,0]-chania_dataset.DataByUser[index][:-1,0] > 5))"
   ]
  },
  {
   "cell_type": "code",
   "execution_count": 5,
   "metadata": {},
   "outputs": [],
   "source": [
    "import scipy.io as sio\n",
    "sio.savemat(\"Data_L_5.mat\",{\"data\":chania_dataset.augmented_data,\"label\":chania_dataset.userlabels})"
   ]
  },
  {
   "cell_type": "code",
   "execution_count": null,
   "metadata": {},
   "outputs": [],
   "source": []
  },
  {
   "cell_type": "code",
   "execution_count": null,
   "metadata": {},
   "outputs": [],
   "source": []
  }
 ],
 "metadata": {
  "kernelspec": {
   "display_name": "Python 3",
   "language": "python",
   "name": "python3"
  },
  "language_info": {
   "codemirror_mode": {
    "name": "ipython",
    "version": 3
   },
   "file_extension": ".py",
   "mimetype": "text/x-python",
   "name": "python",
   "nbconvert_exporter": "python",
   "pygments_lexer": "ipython3",
   "version": "3.7.4"
  }
 },
 "nbformat": 4,
 "nbformat_minor": 2
}
